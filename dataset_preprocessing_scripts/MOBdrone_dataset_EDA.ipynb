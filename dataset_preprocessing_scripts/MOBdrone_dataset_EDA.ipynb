{
 "cells": [
  {
   "cell_type": "markdown",
   "id": "875e0e6d-1b23-4a5d-a0db-73fd7de5d139",
   "metadata": {},
   "source": [
    "# MOBDrone Dataset EDA and Preprocessing"
   ]
  },
  {
   "cell_type": "markdown",
   "id": "d2dc9350-dfa4-4037-8d1f-8ca9c55ec4be",
   "metadata": {},
   "source": [
    "## Importing Dependencies"
   ]
  },
  {
   "cell_type": "code",
   "execution_count": 6,
   "id": "2225efa2-8ae4-4211-8efa-30f0cfd85200",
   "metadata": {},
   "outputs": [],
   "source": [
    "import pandas as pd\n",
    "import matplotlib.pyplot as plt\n",
    "import seaborn as sns\n",
    "import cv2\n",
    "\n",
    "import os\n",
    "import json\n",
    "import random\n",
    "from pathlib import Path\n",
    "\n",
    "from collections import Counter\n",
    "from collections import defaultdict"
   ]
  },
  {
   "cell_type": "markdown",
   "id": "e0bbcc20-483b-4eca-92e4-390fd825c7ab",
   "metadata": {},
   "source": [
    "## Loading the json annotation files"
   ]
  },
  {
   "cell_type": "code",
   "execution_count": 7,
   "id": "3f4c7e07-f9cb-42f1-8d24-213ffc34b274",
   "metadata": {},
   "outputs": [],
   "source": [
    "# === Load dataset ===\n",
    "json_path_train = \"./dataset/mobdrone/annotations/train_annotations.coco.json\"\n",
    "json_path_val = \"./dataset/mobdrone/annotations/val_annotations.coco.json\"\n",
    "json_path_test = \"./dataset/mobdrone/annotations/test_annotations.coco.json\"\n",
    "with open(json_path_train, 'r') as f:\n",
    "    train_data = json.load(f)\n",
    "\n",
    "with open(json_path_val, 'r') as f:\n",
    "    val_data = json.load(f)\n",
    "\n",
    "with open(json_path_test, 'r') as f:\n",
    "    test_data = json.load(f)"
   ]
  },
  {
   "cell_type": "markdown",
   "id": "b9abb708-eee3-4a3e-ab26-59a9d7197ac7",
   "metadata": {},
   "source": [
    "## Going through the key and value pairs of annotation"
   ]
  },
  {
   "cell_type": "code",
   "execution_count": 8,
   "id": "a5f1ff3c-6545-4bf7-8ff9-2ef55df915e0",
   "metadata": {},
   "outputs": [
    {
     "data": {
      "text/plain": [
       "dict_keys(['info', 'licenses', 'categories', 'images', 'annotations'])"
      ]
     },
     "execution_count": 8,
     "metadata": {},
     "output_type": "execute_result"
    }
   ],
   "source": [
    "train_data.keys()"
   ]
  },
  {
   "cell_type": "code",
   "execution_count": 9,
   "id": "1cca89f1-09a0-4b05-9c52-9ae2d2609c96",
   "metadata": {},
   "outputs": [
    {
     "data": {
      "text/plain": [
       "dict_keys(['info', 'licenses', 'categories', 'images', 'annotations'])"
      ]
     },
     "execution_count": 9,
     "metadata": {},
     "output_type": "execute_result"
    }
   ],
   "source": [
    "val_data.keys()"
   ]
  },
  {
   "cell_type": "code",
   "execution_count": 10,
   "id": "fd906186-f6f2-4727-a754-dcef417d5c85",
   "metadata": {},
   "outputs": [
    {
     "data": {
      "text/plain": [
       "dict_keys(['info', 'licenses', 'categories', 'images', 'annotations'])"
      ]
     },
     "execution_count": 10,
     "metadata": {},
     "output_type": "execute_result"
    }
   ],
   "source": [
    "test_data.keys()"
   ]
  },
  {
   "cell_type": "code",
   "execution_count": 11,
   "id": "4ac6656c-81aa-4b7f-8b2f-1e7e5c539468",
   "metadata": {},
   "outputs": [
    {
     "name": "stdout",
     "output_type": "stream",
     "text": [
      "{'id': 0, 'name': 'Person-Boat-Lifebuoy-Wood', 'supercategory': 'none'}\n",
      "{'id': 1, 'name': 'boat', 'supercategory': 'Person-Boat-Lifebuoy-Wood'}\n",
      "{'id': 2, 'name': 'life_buoy', 'supercategory': 'Person-Boat-Lifebuoy-Wood'}\n",
      "{'id': 3, 'name': 'person', 'supercategory': 'Person-Boat-Lifebuoy-Wood'}\n",
      "{'id': 4, 'name': 'surfboard', 'supercategory': 'Person-Boat-Lifebuoy-Wood'}\n",
      "{'id': 5, 'name': 'wood', 'supercategory': 'Person-Boat-Lifebuoy-Wood'}\n"
     ]
    }
   ],
   "source": [
    "for cat in train_data['categories']:\n",
    "    print(cat)"
   ]
  },
  {
   "cell_type": "code",
   "execution_count": 12,
   "id": "d622001f-e48f-4195-981a-09ca2d33e6fb",
   "metadata": {},
   "outputs": [
    {
     "name": "stdout",
     "output_type": "stream",
     "text": [
      "{'id': 0, 'name': 'Person-Boat-Lifebuoy-Wood', 'supercategory': 'none'}\n",
      "{'id': 1, 'name': 'boat', 'supercategory': 'Person-Boat-Lifebuoy-Wood'}\n",
      "{'id': 2, 'name': 'life_buoy', 'supercategory': 'Person-Boat-Lifebuoy-Wood'}\n",
      "{'id': 3, 'name': 'person', 'supercategory': 'Person-Boat-Lifebuoy-Wood'}\n",
      "{'id': 4, 'name': 'surfboard', 'supercategory': 'Person-Boat-Lifebuoy-Wood'}\n",
      "{'id': 5, 'name': 'wood', 'supercategory': 'Person-Boat-Lifebuoy-Wood'}\n"
     ]
    }
   ],
   "source": [
    "for cat in val_data['categories']:\n",
    "    print(cat)"
   ]
  },
  {
   "cell_type": "code",
   "execution_count": 13,
   "id": "baa33013-6fc9-43cc-96a0-9af4a190add2",
   "metadata": {},
   "outputs": [
    {
     "name": "stdout",
     "output_type": "stream",
     "text": [
      "{'id': 0, 'name': 'Person-Boat-Lifebuoy-Wood', 'supercategory': 'none'}\n",
      "{'id': 1, 'name': 'boat', 'supercategory': 'Person-Boat-Lifebuoy-Wood'}\n",
      "{'id': 2, 'name': 'life_buoy', 'supercategory': 'Person-Boat-Lifebuoy-Wood'}\n",
      "{'id': 3, 'name': 'person', 'supercategory': 'Person-Boat-Lifebuoy-Wood'}\n",
      "{'id': 4, 'name': 'surfboard', 'supercategory': 'Person-Boat-Lifebuoy-Wood'}\n",
      "{'id': 5, 'name': 'wood', 'supercategory': 'Person-Boat-Lifebuoy-Wood'}\n"
     ]
    }
   ],
   "source": [
    "for cat in test_data['categories']:\n",
    "    print(cat)"
   ]
  },
  {
   "cell_type": "code",
   "execution_count": 14,
   "id": "131860d7-7183-4b60-a100-e09f17f13ca3",
   "metadata": {},
   "outputs": [
    {
     "data": {
      "text/plain": [
       "{'id': 0,\n",
       " 'license': 1,\n",
       " 'file_name': 'DJI_0915_0001_40m_000424_PNG.rf.d15a8aa5a21ba39395d7784e1a046192.jpg',\n",
       " 'height': 640,\n",
       " 'width': 640,\n",
       " 'date_captured': '2023-01-30T01:04:43+00:00'}"
      ]
     },
     "execution_count": 14,
     "metadata": {},
     "output_type": "execute_result"
    }
   ],
   "source": [
    "train_data['images'][0]"
   ]
  },
  {
   "cell_type": "code",
   "execution_count": 15,
   "id": "93bfa568-c741-4ba7-9136-e089faff3cdc",
   "metadata": {},
   "outputs": [
    {
     "data": {
      "text/plain": [
       "{'id': 0,\n",
       " 'license': 1,\n",
       " 'file_name': 'DJI_0804_0014_50m_3_000312_PNG.rf.00fa90b37e4493198c9e622ad986f23e.jpg',\n",
       " 'height': 640,\n",
       " 'width': 640,\n",
       " 'date_captured': '2023-01-30T01:04:43+00:00'}"
      ]
     },
     "execution_count": 15,
     "metadata": {},
     "output_type": "execute_result"
    }
   ],
   "source": [
    "val_data['images'][0]"
   ]
  },
  {
   "cell_type": "code",
   "execution_count": 16,
   "id": "fa4fa6aa-e29a-4505-b227-4cb75e16d5b4",
   "metadata": {},
   "outputs": [
    {
     "data": {
      "text/plain": [
       "{'id': 0,\n",
       " 'license': 1,\n",
       " 'file_name': 'DJI_0915_0001_40m_000223_PNG.rf.04c67b6e127e55bf6ae4f6ebee7de31b.jpg',\n",
       " 'height': 640,\n",
       " 'width': 640,\n",
       " 'date_captured': '2023-01-30T01:04:43+00:00'}"
      ]
     },
     "execution_count": 16,
     "metadata": {},
     "output_type": "execute_result"
    }
   ],
   "source": [
    "test_data['images'][0]"
   ]
  },
  {
   "cell_type": "code",
   "execution_count": 17,
   "id": "a93d866f-4a9e-44c8-bf9c-66c42188f73f",
   "metadata": {},
   "outputs": [
    {
     "name": "stdout",
     "output_type": "stream",
     "text": [
      "{'id': 0, 'image_id': 0, 'category_id': 3, 'bbox': [398, 348, 13.5, 22.5], 'area': 303.75, 'segmentation': [], 'iscrowd': 0}\n",
      "{'id': 1, 'image_id': 0, 'category_id': 3, 'bbox': [491, 252, 11.5, 25], 'area': 287.5, 'segmentation': [], 'iscrowd': 0}\n",
      "{'id': 2, 'image_id': 0, 'category_id': 1, 'bbox': [60, 125, 61, 174.5], 'area': 10644.5, 'segmentation': [], 'iscrowd': 0}\n",
      "{'id': 3, 'image_id': 1, 'category_id': 3, 'bbox': [381, 623, 13.5, 15.5], 'area': 209.25, 'segmentation': [], 'iscrowd': 0}\n",
      "{'id': 4, 'image_id': 1, 'category_id': 3, 'bbox': [475, 521, 15.5, 23], 'area': 356.5, 'segmentation': [], 'iscrowd': 0}\n",
      "{'id': 5, 'image_id': 1, 'category_id': 1, 'bbox': [46, 401, 61, 178], 'area': 10858, 'segmentation': [], 'iscrowd': 0}\n",
      "{'id': 6, 'image_id': 2, 'category_id': 3, 'bbox': [392, 268, 13.5, 22.5], 'area': 303.75, 'segmentation': [], 'iscrowd': 0}\n",
      "{'id': 7, 'image_id': 2, 'category_id': 3, 'bbox': [488, 171, 11.5, 28.5], 'area': 327.75, 'segmentation': [], 'iscrowd': 0}\n",
      "{'id': 8, 'image_id': 2, 'category_id': 1, 'bbox': [58, 42, 61, 171.5], 'area': 10461.5, 'segmentation': [], 'iscrowd': 0}\n",
      "{'id': 9, 'image_id': 3, 'category_id': 1, 'bbox': [78, 263, 55.5, 39], 'area': 2164.5, 'segmentation': [], 'iscrowd': 0}\n"
     ]
    }
   ],
   "source": [
    "for i in range(0,10):\n",
    "    print(train_data['annotations'][i])"
   ]
  },
  {
   "cell_type": "code",
   "execution_count": 18,
   "id": "5ea14dea-a3c6-457d-ba0d-0eef7c237ce7",
   "metadata": {},
   "outputs": [
    {
     "name": "stdout",
     "output_type": "stream",
     "text": [
      "{'id': 0, 'image_id': 0, 'category_id': 5, 'bbox': [270, 151, 42, 45.5], 'area': 1911, 'segmentation': [], 'iscrowd': 0}\n",
      "{'id': 1, 'image_id': 0, 'category_id': 1, 'bbox': [408, 23, 8.5, 16.5], 'area': 140.25, 'segmentation': [], 'iscrowd': 0}\n",
      "{'id': 2, 'image_id': 0, 'category_id': 4, 'bbox': [426, 56, 7, 12.5], 'area': 87.5, 'segmentation': [], 'iscrowd': 0}\n",
      "{'id': 3, 'image_id': 0, 'category_id': 3, 'bbox': [427, 49, 3.5, 11.5], 'area': 40.25, 'segmentation': [], 'iscrowd': 0}\n",
      "{'id': 4, 'image_id': 0, 'category_id': 1, 'bbox': [423, 508, 23, 79.5], 'area': 1828.5, 'segmentation': [], 'iscrowd': 0}\n",
      "{'id': 5, 'image_id': 0, 'category_id': 1, 'bbox': [481, 295, 23, 63.5], 'area': 1460.5, 'segmentation': [], 'iscrowd': 0}\n",
      "{'id': 6, 'image_id': 0, 'category_id': 1, 'bbox': [569, 223, 15, 35.5], 'area': 532.5, 'segmentation': [], 'iscrowd': 0}\n",
      "{'id': 7, 'image_id': 0, 'category_id': 1, 'bbox': [597, 4, 15, 15.5], 'area': 232.5, 'segmentation': [], 'iscrowd': 0}\n",
      "{'id': 8, 'image_id': 0, 'category_id': 1, 'bbox': [176, 585, 55, 54.5], 'area': 2997.5, 'segmentation': [], 'iscrowd': 0}\n",
      "{'id': 9, 'image_id': 1, 'category_id': 1, 'bbox': [75, 277, 55.5, 39], 'area': 2164.5, 'segmentation': [], 'iscrowd': 0}\n"
     ]
    }
   ],
   "source": [
    "for i in range(0,10):\n",
    "    print(val_data['annotations'][i])"
   ]
  },
  {
   "cell_type": "code",
   "execution_count": 19,
   "id": "3e8a89cd-2b76-4a42-bf89-b04d33279b9a",
   "metadata": {},
   "outputs": [
    {
     "name": "stdout",
     "output_type": "stream",
     "text": [
      "{'id': 0, 'image_id': 0, 'category_id': 3, 'bbox': [344, 84, 13.5, 22.5], 'area': 303.75, 'segmentation': [], 'iscrowd': 0}\n",
      "{'id': 1, 'image_id': 1, 'category_id': 1, 'bbox': [36, 599, 57, 41], 'area': 2337, 'segmentation': [], 'iscrowd': 0}\n",
      "{'id': 2, 'image_id': 2, 'category_id': 1, 'bbox': [214, 17, 99.5, 78], 'area': 7761, 'segmentation': [], 'iscrowd': 0}\n",
      "{'id': 3, 'image_id': 3, 'category_id': 2, 'bbox': [112, 112, 8.5, 12], 'area': 102, 'segmentation': [], 'iscrowd': 0}\n",
      "{'id': 4, 'image_id': 3, 'category_id': 3, 'bbox': [319, 100, 13.5, 25], 'area': 337.5, 'segmentation': [], 'iscrowd': 0}\n",
      "{'id': 5, 'image_id': 3, 'category_id': 3, 'bbox': [222, 35, 14.5, 18.5], 'area': 268.25, 'segmentation': [], 'iscrowd': 0}\n",
      "{'id': 6, 'image_id': 3, 'category_id': 5, 'bbox': [0, 623, 61, 16.5], 'area': 1006.5, 'segmentation': [], 'iscrowd': 0}\n",
      "{'id': 7, 'image_id': 3, 'category_id': 5, 'bbox': [64, 589, 21.5, 51], 'area': 1096.5, 'segmentation': [], 'iscrowd': 0}\n",
      "{'id': 8, 'image_id': 3, 'category_id': 1, 'bbox': [426, 151, 27.5, 45.5], 'area': 1251.25, 'segmentation': [], 'iscrowd': 0}\n",
      "{'id': 9, 'image_id': 4, 'category_id': 3, 'bbox': [316, 1, 13.5, 18.5], 'area': 249.75, 'segmentation': [], 'iscrowd': 0}\n"
     ]
    }
   ],
   "source": [
    "for i in range(0,10):\n",
    "    print(test_data['annotations'][i])"
   ]
  },
  {
   "cell_type": "markdown",
   "id": "83e4b867-8fdc-4623-9f15-6070b5127900",
   "metadata": {},
   "source": [
    "## Basic EDA"
   ]
  },
  {
   "cell_type": "code",
   "execution_count": 20,
   "id": "a503eca8-519e-4c7f-9652-659792a837ed",
   "metadata": {},
   "outputs": [
    {
     "name": "stdout",
     "output_type": "stream",
     "text": [
      "Number of images: 2566\n",
      "Number of annotations: 10696\n",
      "Number of categories: 6\n"
     ]
    }
   ],
   "source": [
    "# === Basic info ===\n",
    "print(\"Number of images:\", len(train_data['images']))\n",
    "print(\"Number of annotations:\", len(train_data['annotations']))\n",
    "print(\"Number of categories:\", len(train_data['categories']))"
   ]
  },
  {
   "cell_type": "code",
   "execution_count": 21,
   "id": "98280bfd-8c29-447e-967b-e0986d1125c9",
   "metadata": {},
   "outputs": [
    {
     "name": "stdout",
     "output_type": "stream",
     "text": [
      "Number of images: 320\n",
      "Number of annotations: 1320\n",
      "Number of categories: 6\n"
     ]
    }
   ],
   "source": [
    "# === Basic info ===\n",
    "print(\"Number of images:\", len(val_data['images']))\n",
    "print(\"Number of annotations:\", len(val_data['annotations']))\n",
    "print(\"Number of categories:\", len(val_data['categories']))"
   ]
  },
  {
   "cell_type": "code",
   "execution_count": 22,
   "id": "c3d5de46-a3f9-4f93-aac6-8c3f738995ad",
   "metadata": {},
   "outputs": [
    {
     "name": "stdout",
     "output_type": "stream",
     "text": [
      "Number of images: 320\n",
      "Number of annotations: 1278\n",
      "Number of categories: 6\n"
     ]
    }
   ],
   "source": [
    "# === Basic info ===\n",
    "print(\"Number of images:\", len(test_data['images']))\n",
    "print(\"Number of annotations:\", len(test_data['annotations']))\n",
    "print(\"Number of categories:\", len(test_data['categories']))"
   ]
  },
  {
   "cell_type": "code",
   "execution_count": 23,
   "id": "7a618138-66ef-4616-9f80-37ed2659ae26",
   "metadata": {
    "scrolled": true
   },
   "outputs": [
    {
     "data": {
      "text/plain": [
       "[{'id': 0,\n",
       "  'image_id': 0,\n",
       "  'category_id': 3,\n",
       "  'bbox': [398, 348, 13.5, 22.5],\n",
       "  'area': 303.75,\n",
       "  'segmentation': [],\n",
       "  'iscrowd': 0},\n",
       " {'id': 1,\n",
       "  'image_id': 0,\n",
       "  'category_id': 3,\n",
       "  'bbox': [491, 252, 11.5, 25],\n",
       "  'area': 287.5,\n",
       "  'segmentation': [],\n",
       "  'iscrowd': 0},\n",
       " {'id': 2,\n",
       "  'image_id': 0,\n",
       "  'category_id': 1,\n",
       "  'bbox': [60, 125, 61, 174.5],\n",
       "  'area': 10644.5,\n",
       "  'segmentation': [],\n",
       "  'iscrowd': 0}]"
      ]
     },
     "execution_count": 23,
     "metadata": {},
     "output_type": "execute_result"
    }
   ],
   "source": [
    "image_id = train_data['images'][0]['id']\n",
    "anns = [ann for ann in train_data['annotations'] if ann['image_id'] == image_id]\n",
    "anns"
   ]
  },
  {
   "cell_type": "code",
   "execution_count": 24,
   "id": "91dd88a4-c380-4a82-98b8-9e19bdd0efca",
   "metadata": {},
   "outputs": [],
   "source": [
    "def plot_category_distribution(data, title, ax):\n",
    "    # === Category mapping ===\n",
    "    cat_id_to_name = {c['id']: c['name'] for c in data['categories']}\n",
    "\n",
    "    # === Category distribution ===\n",
    "    cat_counts = Counter([ann['category_id'] for ann in data['annotations']])\n",
    "    cat_counts_named = {cat_id_to_name[k]: v for k, v in cat_counts.items()}\n",
    "\n",
    "    sns.barplot(\n",
    "        x=list(cat_counts_named.keys()),\n",
    "        y=list(cat_counts_named.values()),\n",
    "        ax=ax\n",
    "    )\n",
    "    ax.set_title(title)\n",
    "    ax.set_ylabel(\"Number of Objects\")\n",
    "    labels = ax.get_xticklabels()\n",
    "    for label in labels:\n",
    "        label.set_rotation(45)\n",
    "        label.set_ha('right')"
   ]
  },
  {
   "cell_type": "code",
   "execution_count": 25,
   "id": "bb9e9a9a-c0b0-48f0-b9bb-6ffd315c531a",
   "metadata": {},
   "outputs": [
    {
     "data": {
      "image/png": "[encoded data removed]",
      "text/plain": [
       "<Figure size 800x500 with 1 Axes>"
      ]
     },
     "metadata": {},
     "output_type": "display_data"
    }
   ],
   "source": [
    "fig, axes = plt.subplots(1, 1, figsize=(8, 5), sharey=True)\n",
    "plot_category_distribution(train_data, \"Training Distribution\", axes)\n",
    "plt.tight_layout()\n",
    "plt.show()"
   ]
  },
  {
   "cell_type": "code",
   "execution_count": 26,
   "id": "3549c8b4-7f69-4c30-a1eb-a0897acd63c1",
   "metadata": {},
   "outputs": [
    {
     "data": {
      "image/png": "[encoded data removed]",
      "text/plain": [
       "<Figure size 800x500 with 1 Axes>"
      ]
     },
     "metadata": {},
     "output_type": "display_data"
    }
   ],
   "source": [
    "fig, axes = plt.subplots(1, 1, figsize=(8, 5), sharey=True)\n",
    "plot_category_distribution(val_data, \"Validation Distribution\", axes)\n",
    "plt.tight_layout()\n",
    "plt.show()"
   ]
  },
  {
   "cell_type": "code",
   "execution_count": 27,
   "id": "00753a0d-cbee-4f96-a91d-d6ff7c973bac",
   "metadata": {},
   "outputs": [
    {
     "data": {
      "image/png": "[encoded data removed]",
      "text/plain": [
       "<Figure size 800x500 with 1 Axes>"
      ]
     },
     "metadata": {},
     "output_type": "display_data"
    }
   ],
   "source": [
    "fig, axes = plt.subplots(1, 1, figsize=(8, 5), sharey=True)\n",
    "plot_category_distribution(test_data, \"Test Distribution\", axes)\n",
    "plt.tight_layout()\n",
    "plt.show()"
   ]
  },
  {
   "cell_type": "code",
   "execution_count": 28,
   "id": "90243379-61f7-49d6-b6ed-4f6d94fb9066",
   "metadata": {},
   "outputs": [],
   "source": [
    "def print_category_distribution(data, title):\n",
    "    # === Category mapping ===\n",
    "    cat_id_to_name = {c['id']: c['name'] for c in data['categories']}\n",
    "\n",
    "    # === Category distribution ===\n",
    "    cat_counts = Counter([ann['category_id'] for ann in data['annotations']])\n",
    "    cat_counts_named = {cat_id_to_name[k]: v for k, v in cat_counts.items()}\n",
    "\n",
    "    print(f\"\\n{title}\")\n",
    "    for category, count in cat_counts_named.items():\n",
    "        print(f\"{category}: {count}\")"
   ]
  },
  {
   "cell_type": "code",
   "execution_count": 29,
   "id": "49e0eb1f-0db7-4e9e-91f5-495c7e675795",
   "metadata": {},
   "outputs": [
    {
     "name": "stdout",
     "output_type": "stream",
     "text": [
      "\n",
      "Train Data Distribution\n",
      "person: 4365\n",
      "boat: 3499\n",
      "life_buoy: 997\n",
      "surfboard: 566\n",
      "wood: 1269\n",
      "\n",
      "Validation Data Distribution\n",
      "wood: 148\n",
      "boat: 420\n",
      "surfboard: 62\n",
      "person: 563\n",
      "life_buoy: 127\n",
      "\n",
      "Test Data Distribution\n",
      "person: 506\n",
      "boat: 431\n",
      "life_buoy: 106\n",
      "wood: 163\n",
      "surfboard: 72\n"
     ]
    }
   ],
   "source": [
    "# Example usage\n",
    "print_category_distribution(train_data, \"Train Data Distribution\")\n",
    "print_category_distribution(val_data, \"Validation Data Distribution\")\n",
    "print_category_distribution(test_data, \"Test Data Distribution\")"
   ]
  },
  {
   "cell_type": "markdown",
   "id": "046a6d91-5c28-418a-9f62-918f2d20f673",
   "metadata": {},
   "source": [
    "## Preprocessing"
   ]
  },
  {
   "cell_type": "markdown",
   "id": "68d6c08d-3c23-4bf3-832b-ad6b0cb45993",
   "metadata": {},
   "source": [
    "### COCO standardization"
   ]
  },
  {
   "cell_type": "code",
   "execution_count": 30,
   "id": "0fcf60fe-15d1-4ab0-a1a1-85e62ff50fb6",
   "metadata": {},
   "outputs": [],
   "source": [
    "def clean_coco_categories(coco_data):\n",
    "    \"\"\"\n",
    "    Cleans COCO-style annotation data by:\n",
    "      1. Removing any 'supercategory placeholder' (like id=0 with combined name).\n",
    "      2. Remapping category IDs so they start at 0 and are continuous.\n",
    "      3. Updating annotations to use the new IDs.\n",
    "\n",
    "    Args:\n",
    "        coco_data (dict): Loaded COCO JSON (as Python dict).\n",
    "\n",
    "    Returns:\n",
    "        dict: Cleaned COCO JSON with fixed categories and annotations.\n",
    "    \"\"\"\n",
    "\n",
    "    # Step 1: Filter out unwanted \"supercategory placeholder\" (id=0, with strange name)\n",
    "    categories = [c for c in coco_data['categories'] if \"-\" not in c['name']]  \n",
    "\n",
    "    # Step 2: Create new ID mapping (continuous starting from 0)\n",
    "    old_to_new = {c['id']: new_id for new_id, c in enumerate(categories)}\n",
    "\n",
    "    # Step 3: Update category IDs in categories list\n",
    "    for new_id, c in enumerate(categories):\n",
    "        c['id'] = new_id\n",
    "\n",
    "    # Step 4: Update category_id in annotations\n",
    "    new_annotations = []\n",
    "    for ann in coco_data['annotations']:\n",
    "        if ann['category_id'] in old_to_new:  # ignore invalid ones\n",
    "            ann['category_id'] = old_to_new[ann['category_id']]\n",
    "            new_annotations.append(ann)\n",
    "\n",
    "    coco_data['categories'] = categories\n",
    "    coco_data['annotations'] = new_annotations\n",
    "\n",
    "    return coco_data"
   ]
  },
  {
   "cell_type": "code",
   "execution_count": 31,
   "id": "3072de37-61b3-48f5-baf7-3b2ed2ec5a51",
   "metadata": {},
   "outputs": [],
   "source": [
    "train_data = clean_coco_categories(train_data)\n",
    "test_data = clean_coco_categories(test_data)\n",
    "val_data = clean_coco_categories(val_data)"
   ]
  },
  {
   "cell_type": "code",
   "execution_count": 32,
   "id": "6f27485a-c9b4-4988-81af-6671d0793894",
   "metadata": {},
   "outputs": [
    {
     "name": "stdout",
     "output_type": "stream",
     "text": [
      "{'id': 0, 'name': 'boat', 'supercategory': 'Person-Boat-Lifebuoy-Wood'}\n",
      "{'id': 1, 'name': 'life_buoy', 'supercategory': 'Person-Boat-Lifebuoy-Wood'}\n",
      "{'id': 2, 'name': 'person', 'supercategory': 'Person-Boat-Lifebuoy-Wood'}\n",
      "{'id': 3, 'name': 'surfboard', 'supercategory': 'Person-Boat-Lifebuoy-Wood'}\n",
      "{'id': 4, 'name': 'wood', 'supercategory': 'Person-Boat-Lifebuoy-Wood'}\n",
      "\n",
      "{'id': 0, 'name': 'boat', 'supercategory': 'Person-Boat-Lifebuoy-Wood'}\n",
      "{'id': 1, 'name': 'life_buoy', 'supercategory': 'Person-Boat-Lifebuoy-Wood'}\n",
      "{'id': 2, 'name': 'person', 'supercategory': 'Person-Boat-Lifebuoy-Wood'}\n",
      "{'id': 3, 'name': 'surfboard', 'supercategory': 'Person-Boat-Lifebuoy-Wood'}\n",
      "{'id': 4, 'name': 'wood', 'supercategory': 'Person-Boat-Lifebuoy-Wood'}\n",
      "\n",
      "{'id': 0, 'name': 'boat', 'supercategory': 'Person-Boat-Lifebuoy-Wood'}\n",
      "{'id': 1, 'name': 'life_buoy', 'supercategory': 'Person-Boat-Lifebuoy-Wood'}\n",
      "{'id': 2, 'name': 'person', 'supercategory': 'Person-Boat-Lifebuoy-Wood'}\n",
      "{'id': 3, 'name': 'surfboard', 'supercategory': 'Person-Boat-Lifebuoy-Wood'}\n",
      "{'id': 4, 'name': 'wood', 'supercategory': 'Person-Boat-Lifebuoy-Wood'}\n"
     ]
    }
   ],
   "source": [
    "for cat in train_data['categories']:\n",
    "    print(cat)\n",
    "print()\n",
    "for cat in val_data['categories']:\n",
    "    print(cat)\n",
    "print()\n",
    "for cat in test_data['categories']:\n",
    "    print(cat)"
   ]
  },
  {
   "cell_type": "code",
   "execution_count": 31,
   "id": "8eb3876c-e610-4836-a313-fab7aa00b01c",
   "metadata": {},
   "outputs": [],
   "source": [
    "with open(\"./dataset/mobdrone/annotations/train_annotations_fixed.json\", \"w\") as f:\n",
    "    json.dump(train_data, f, indent=4)\n",
    "\n",
    "with open(\"./dataset/mobdrone/annotations/test_annotations_fixed.json\", \"w\") as f:\n",
    "    json.dump(test_data, f, indent=4)\n",
    "\n",
    "with open(\"./dataset/mobdrone/annotations/val_annotations_fixed.json\", \"w\") as f:\n",
    "    json.dump(val_data, f, indent=4)"
   ]
  },
  {
   "cell_type": "markdown",
   "id": "386ac83f-a314-49c1-9143-f363ac1bc7d1",
   "metadata": {},
   "source": [
    "### Converting to Yolo format"
   ]
  },
  {
   "cell_type": "code",
   "execution_count": 33,
   "id": "caace357-bd6b-4293-a792-d953b5a56f76",
   "metadata": {},
   "outputs": [
    {
     "name": "stderr",
     "output_type": "stream",
     "text": [
      "Converting ./dataset/mobdrone/annotations/train.json: 100%|█████████████████████| 10696/10696 [00:22<00:00, 472.02it/s]\n",
      "Converting ./dataset/mobdrone/annotations/val.json: 100%|█████████████████████████| 1320/1320 [00:01<00:00, 667.34it/s]\n",
      "Converting ./dataset/mobdrone/annotations/test.json: 100%|████████████████████████| 1278/1278 [00:03<00:00, 423.32it/s]\n"
     ]
    }
   ],
   "source": [
    "import json\n",
    "import os\n",
    "from pathlib import Path\n",
    "from tqdm import tqdm\n",
    "from PIL import Image\n",
    "\n",
    "def coco_to_yolo(json_path, img_dir, out_dir):\n",
    "    with open(json_path, 'r') as f:\n",
    "        coco = json.load(f)\n",
    "\n",
    "    # category mapping\n",
    "    cats = {cat['id']: i for i, cat in enumerate(coco['categories'])}\n",
    "\n",
    "    # image info dict\n",
    "    images = {img['id']: img for img in coco['images']}\n",
    "\n",
    "    os.makedirs(out_dir, exist_ok=True)\n",
    "\n",
    "    for ann in tqdm(coco['annotations'], desc=f\"Converting {json_path}\"):\n",
    "        img_info = images[ann['image_id']]\n",
    "        img_w, img_h = img_info['width'], img_info['height']\n",
    "        cat_id = cats[ann['category_id']]\n",
    "\n",
    "        # bbox in coco = [x_min, y_min, width, height]\n",
    "        x, y, w, h = ann['bbox']\n",
    "        x_c = (x + w/2) / img_w\n",
    "        y_c = (y + h/2) / img_h\n",
    "        w /= img_w\n",
    "        h /= img_h\n",
    "\n",
    "        # save txt per image\n",
    "        file_stem = Path(img_info['file_name']).stem\n",
    "        out_file = Path(out_dir) / f\"{file_stem}.txt\"\n",
    "        with open(out_file, \"a\") as f:\n",
    "            f.write(f\"{cat_id} {x_c:.6f} {y_c:.6f} {w:.6f} {h:.6f}\\n\")\n",
    "\n",
    "# Example usage for your dataset\n",
    "coco_to_yolo(\n",
    "    json_path=\"./dataset/mobdrone/annotations/train.json\",\n",
    "    img_dir=\"./dataset/mobdrone/images/train\",\n",
    "    out_dir=\"./dataset/mobdrone/labels/train\"\n",
    ")\n",
    "\n",
    "coco_to_yolo(\n",
    "    json_path=\"./dataset/mobdrone/annotations/val.json\",\n",
    "    img_dir=\"./dataset/mobdrone/images/val\",\n",
    "    out_dir=\"./dataset/mobdrone/labels/val\"\n",
    ")\n",
    "\n",
    "coco_to_yolo(\n",
    "    json_path=\"./dataset/mobdrone/annotations/test.json\",\n",
    "    img_dir=\"./dataset/mobdrone/images/test\",\n",
    "    out_dir=\"./dataset/mobdrone/labels/test\"\n",
    ")\n"
   ]
  },
  {
   "cell_type": "code",
   "execution_count": null,
   "id": "bc789f53-d381-4450-a9d6-02ed85ef953b",
   "metadata": {},
   "outputs": [],
   "source": []
  }
 ],
 "metadata": {
  "kernelspec": {
   "display_name": "Project Drone Vision",
   "language": "python",
   "name": "projectdronevision"
  },
  "language_info": {
   "codemirror_mode": {
    "name": "ipython",
    "version": 3
   },
   "file_extension": ".py",
   "mimetype": "text/x-python",
   "name": "python",
   "nbconvert_exporter": "python",
   "pygments_lexer": "ipython3",
   "version": "3.12.4"
  }
 },
 "nbformat": 4,
 "nbformat_minor": 5
}
